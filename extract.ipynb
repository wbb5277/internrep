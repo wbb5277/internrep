{
 "cells": [
  {
   "cell_type": "code",
   "execution_count": 1,
   "metadata": {},
   "outputs": [],
   "source": [
    "import pandas as pd"
   ]
  },
  {
   "cell_type": "code",
   "execution_count": 2,
   "metadata": {},
   "outputs": [],
   "source": [
    "df = pd.read_csv('logGOODparsed.txt', header=None)\n",
    "df.columns = ['dis']"
   ]
  },
  {
   "cell_type": "code",
   "execution_count": 3,
   "metadata": {},
   "outputs": [],
   "source": [
    "sorted = df.dis.value_counts()\n",
    "sorted = pd.DataFrame(sorted)\n",
    "length = len(sorted)\n",
    "sorted = sorted.reset_index()\n",
    "sorted.columns = ['name', 'occur']\n",
    "otherocc = 0\n",
    "To = length # Other threshold\n",
    "\n",
    "for i in range(0,length) :\n",
    "    if sorted.loc[i].occur < To :\n",
    "        otherocc += sorted.loc[i].occur\n",
    "        sorted = sorted.drop(i)\n",
    "\n",
    "        \n",
    "sorted = sorted.append({'name':'other','occur':otherocc}, ignore_index = True)\n",
    "sorted = sorted.sort_values(by='occur', ascending=False)\n",
    "sorted = sorted.reset_index(drop=True)\n",
    "sorted.to_csv('count.csv')"
   ]
  }
 ],
 "metadata": {
  "kernelspec": {
   "display_name": "Python 3",
   "language": "python",
   "name": "python3"
  },
  "language_info": {
   "codemirror_mode": {
    "name": "ipython",
    "version": 3
   },
   "file_extension": ".py",
   "mimetype": "text/x-python",
   "name": "python",
   "nbconvert_exporter": "python",
   "pygments_lexer": "ipython3",
   "version": "3.7.4"
  }
 },
 "nbformat": 4,
 "nbformat_minor": 2
}
