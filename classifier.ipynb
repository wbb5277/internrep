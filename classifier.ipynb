{
 "cells": [
  {
   "cell_type": "code",
   "execution_count": 1,
   "metadata": {},
   "outputs": [],
   "source": [
    "import pandas as pd\n",
    "import numpy as np\n",
    "from math import sqrt\n",
    "from random import randint"
   ]
  },
  {
   "cell_type": "code",
   "execution_count": 2,
   "metadata": {},
   "outputs": [],
   "source": [
    "def norm(C) :\n",
    "    tmp = 0\n",
    "    for i in range(len(C)) :\n",
    "        tmp += C[i]*C[i]\n",
    "        \n",
    "    return sqrt(tmp)"
   ]
  },
  {
   "cell_type": "code",
   "execution_count": 3,
   "metadata": {},
   "outputs": [],
   "source": [
    "def dist(Cp,Cc) :\n",
    "    norm1 = norm(Cp)\n",
    "    norm2 = norm(Cc)\n",
    "    tmp = 0\n",
    "    if (len(Cp) == 0) | (len(Cc) == 0) :\n",
    "        return 0\n",
    "    else :\n",
    "        for i in range(min(len(Cp),len(Cc))) :\n",
    "            tmp += Cp[i] * Cc[i]\n",
    "        return tmp/(norm1*norm2)"
   ]
  },
  {
   "cell_type": "code",
   "execution_count": 4,
   "metadata": {},
   "outputs": [],
   "source": [
    "def init(nblog,countlog) :\n",
    "    trace = pd.read_csv(nblog, header=None)\n",
    "    trace.columns = ['syscall']\n",
    "    index = pd.read_csv(countlog, index_col=0)\n",
    "    index = index.drop('occur',1)\n",
    "    index.reset_index(inplace=True)\n",
    "    index.set_index('name', inplace=True)\n",
    "    index.columns = ['ind']\n",
    "    nmdb = pd.DataFrame(np.empty((0,3)))\n",
    "    nmdb.columns = ['key','value','num']\n",
    "    nmdb.set_index('key', inplace=True)\n",
    "    S = 5000 # Epoch size\n",
    "    Tt = 0.99 # Training threshold\n",
    "    Bs = 10 # Bag size\n",
    "    return trace, index, nmdb, S, Tt, Bs"
   ]
  },
  {
   "cell_type": "code",
   "execution_count": 5,
   "metadata": {
    "scrolled": true
   },
   "outputs": [],
   "source": [
    "def train(nblog,countlog) :\n",
    "    trace, index, nmdb, S, Tt, Bs = init(nblog,countlog)\n",
    "    Cp = []\n",
    "    Cc = []\n",
    "    key = [0] * len(index)\n",
    "    ep = 0\n",
    "    while (dist(Cp,Cc)  < Tt) | (ep*S < 0.05*len(trace)) :\n",
    "        Cp = Cc.copy()\n",
    "        Cc = [0]*len(Cc)\n",
    "        rp = ep\n",
    "        #rp = randint(0,int(len(trace)/S) - 1) # comment to choose consecutive epochs, need to generate unique\n",
    "        for i in range((S - Bs + 1)) :\n",
    "            for k in range(len(key)) :\n",
    "                key[k] = 0\n",
    "            for j in range(Bs) :\n",
    "                if str(trace.loc[rp*S+i+j].syscall) in index.index :    \n",
    "                    ind = int(index.loc[str(trace.loc[rp*S+i+j].syscall)].ind)\n",
    "                else :\n",
    "                    ind = int(index.loc['other'].ind)\n",
    "                key[ind] += 1\n",
    "            if str(key) in nmdb.index :\n",
    "                nmdb.at[str(key), 'value'] += 1\n",
    "                num = int(nmdb.loc[str(key)].num)\n",
    "                Cc[num] += 1\n",
    "            else :\n",
    "                b = pd.DataFrame(np.empty((0,3)))\n",
    "                b.columns = ['key','value','num']\n",
    "                b = b.append({'key': str(key), 'value' : 1, 'num' : len(nmdb)}, ignore_index = True)\n",
    "                b.set_index('key', inplace=True)\n",
    "                nmdb = nmdb.append(b)\n",
    "                num = int(nmdb.loc[str(key)].num)\n",
    "                Cc.insert(num,1)\n",
    "        ep += 1\n",
    "    return nmdb, index, S, Bs, ep"
   ]
  },
  {
   "cell_type": "code",
   "execution_count": 6,
   "metadata": {},
   "outputs": [
    {
     "name": "stdout",
     "output_type": "stream",
     "text": [
      "There are 12 epochs\n"
     ]
    }
   ],
   "source": [
    "#nmdb, _, _, _, ep = train('logGOODparsed.txt','count.csv')\n",
    "#print('There are %d epochs' % (ep))"
   ]
  }
 ],
 "metadata": {
  "kernelspec": {
   "display_name": "Python 3",
   "language": "python",
   "name": "python3"
  },
  "language_info": {
   "codemirror_mode": {
    "name": "ipython",
    "version": 3
   },
   "file_extension": ".py",
   "mimetype": "text/x-python",
   "name": "python",
   "nbconvert_exporter": "python",
   "pygments_lexer": "ipython3",
   "version": "3.7.4"
  }
 },
 "nbformat": 4,
 "nbformat_minor": 2
}
