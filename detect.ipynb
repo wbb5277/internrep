{
 "cells": [
  {
   "cell_type": "code",
   "execution_count": 1,
   "metadata": {},
   "outputs": [
    {
     "name": "stdout",
     "output_type": "stream",
     "text": [
      "importing Jupyter notebook from classifier.ipynb\n"
     ]
    }
   ],
   "source": [
    "import import_ipynb\n",
    "import pandas as pd\n",
    "import numpy as np\n",
    "import classifier"
   ]
  },
  {
   "cell_type": "code",
   "execution_count": 2,
   "metadata": {},
   "outputs": [],
   "source": [
    "Td = 0.99 # Detection threshold\n",
    "bdlog = 'logMALparsed.txt'\n",
    "nblog = 'logGOODparsed.txt'\n",
    "countlog = 'count.csv'\n",
    "trace = pd.read_csv(bdlog, header=None)\n",
    "trace.columns = ['syscall']\n",
    "nmdb, index, S, Bs, epnum = classifier.train(nblog,countlog)\n",
    "ep = 0\n",
    "alert = 0\n",
    "key = [0]*len(index)"
   ]
  },
  {
   "cell_type": "code",
   "execution_count": 3,
   "metadata": {
    "scrolled": true
   },
   "outputs": [
    {
     "name": "stdout",
     "output_type": "stream",
     "text": [
      "Alert = 1678\n"
     ]
    }
   ],
   "source": [
    "while (ep < int(len(trace)/S) - 1) :\n",
    "    for i in range((S - Bs + 1)) :\n",
    "        for k in range(len(key)) :\n",
    "            key[k] = 0\n",
    "        for j in range(Bs) :\n",
    "            if str(trace.loc[ep*S+i+j].syscall) in index.index :    \n",
    "                ind = int(index.loc[str(trace.loc[ep*S+i+j].syscall)].ind)\n",
    "            else :\n",
    "                ind = int(index.loc['other'].ind)\n",
    "            key[ind] += 1\n",
    "        if str(key) in nmdb.index :\n",
    "            continue\n",
    "        else :\n",
    "            alert += 1\n",
    "    ep += 1\n",
    "    if (alert > (1-Td)*i) :\n",
    "        break\n",
    "    else :\n",
    "        alert = 0"
   ]
  },
  {
   "cell_type": "code",
   "execution_count": 11,
   "metadata": {},
   "outputs": [
    {
     "name": "stdout",
     "output_type": "stream",
     "text": [
      "Mismatch in 33.627255%\n"
     ]
    }
   ],
   "source": [
    "print('Mismatch in %f%%' % (100*alert/i))"
   ]
  }
 ],
 "metadata": {
  "kernelspec": {
   "display_name": "Python 3",
   "language": "python",
   "name": "python3"
  },
  "language_info": {
   "codemirror_mode": {
    "name": "ipython",
    "version": 3
   },
   "file_extension": ".py",
   "mimetype": "text/x-python",
   "name": "python",
   "nbconvert_exporter": "python",
   "pygments_lexer": "ipython3",
   "version": "3.7.4"
  }
 },
 "nbformat": 4,
 "nbformat_minor": 2
}
